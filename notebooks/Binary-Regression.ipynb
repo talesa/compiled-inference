{
 "cells": [
  {
   "cell_type": "markdown",
   "metadata": {},
   "source": [
    "# TODOs\n",
    "- get the standard regression of a distribution to work\n",
    "- try fractionial inputs and see if it works"
   ]
  },
  {
   "cell_type": "code",
   "execution_count": 1,
   "metadata": {},
   "outputs": [],
   "source": [
    "%load_ext autoreload\n",
    "%autoreload 2\n",
    "\n",
    "import numpy as np\n",
    "import torch\n",
    "from torch.autograd import Variable\n",
    "import sys, inspect\n",
    "sys.path.insert(0, '..')\n",
    "\n",
    "%matplotlib inline\n",
    "import pymc\n",
    "import matplotlib.pyplot as plt\n",
    "\n",
    "from learn_smc_proposals import cde\n",
    "from learn_smc_proposals.utils import systematic_resample\n",
    "\n",
    "import seaborn as sns\n",
    "sns.set_context(\"notebook\", font_scale=1.5, rc={\"lines.markersize\": 12})\n",
    "sns.set_style('ticks')\n",
    "\n",
    "import itertools"
   ]
  },
  {
   "cell_type": "markdown",
   "metadata": {},
   "source": [
    "Define 3 binary variables joint distribution"
   ]
  },
  {
   "cell_type": "code",
   "execution_count": 2,
   "metadata": {},
   "outputs": [
    {
     "data": {
      "text/plain": [
       "(2, 2, 2)"
      ]
     },
     "execution_count": 2,
     "metadata": {},
     "output_type": "execute_result"
    }
   ],
   "source": [
    "a = np.array([[[1, 2], [3, 4]], [[5, 6], [7, 8]]])\n",
    "a = a/np.sum(a)\n",
    "a.shape"
   ]
  },
  {
   "cell_type": "code",
   "execution_count": 46,
   "metadata": {},
   "outputs": [
    {
     "data": {
      "text/plain": [
       "array([[[ 0.02777778,  0.05555556],\n",
       "        [ 0.08333333,  0.11111111]],\n",
       "\n",
       "       [[ 0.13888889,  0.16666667],\n",
       "        [ 0.19444444,  0.22222222]]])"
      ]
     },
     "execution_count": 46,
     "metadata": {},
     "output_type": "execute_result"
    }
   ],
   "source": [
    "a"
   ]
  },
  {
   "cell_type": "markdown",
   "metadata": {},
   "source": [
    "Check if not independent"
   ]
  },
  {
   "cell_type": "code",
   "execution_count": 3,
   "metadata": {},
   "outputs": [],
   "source": [
    "marginal = lambda i: a.sum(axis=tuple({0,1,2}.difference({i})))"
   ]
  },
  {
   "cell_type": "code",
   "execution_count": 4,
   "metadata": {},
   "outputs": [],
   "source": [
    "for i in itertools.product([0, 1], repeat=3):\n",
    "    assert(not np.isclose(marginal(0)[i[0]]*marginal(1)[i[1]]*marginal(2)[i[2]], a[i[0],i[1],i[2]]))"
   ]
  },
  {
   "cell_type": "markdown",
   "metadata": {},
   "source": [
    "Sample values"
   ]
  },
  {
   "cell_type": "code",
   "execution_count": 5,
   "metadata": {},
   "outputs": [],
   "source": [
    "def generate_synthetic(size=100):\n",
    "    size = int(size)\n",
    "    c = np.digitize(np.random.uniform(size=(size,1)), np.cumsum(a))\n",
    "    d = np.unravel_index(c, a.shape)\n",
    "    e = np.squeeze(np.dstack(d))\n",
    "    latent = np.atleast_2d(e)\n",
    "    return latent\n",
    "\n",
    "gen_data = lambda num_samples: generate_synthetic(num_samples)\n",
    "example_minibatch = gen_data(100)"
   ]
  },
  {
   "cell_type": "code",
   "execution_count": 6,
   "metadata": {},
   "outputs": [
    {
     "data": {
      "text/plain": [
       "array([ 1.        ,  1.99971152,  3.01016876,  4.01207991,  5.0126208 ,\n",
       "        6.00439925,  7.02614308,  7.99430261])"
      ]
     },
     "execution_count": 6,
     "metadata": {},
     "output_type": "execute_result"
    }
   ],
   "source": [
    "n = 1000000\n",
    "aa = np.unique(gen_data(n), axis=0,return_counts=True)[1]\n",
    "aa/aa[0]"
   ]
  },
  {
   "cell_type": "code",
   "execution_count": 47,
   "metadata": {},
   "outputs": [
    {
     "data": {
      "text/plain": [
       "ConditionalBinaryMADE(\n",
       "  (relu): ReLU()\n",
       "  (layers): ModuleList(\n",
       "    (0): MaskedLinear(in_features=3, out_features=10)\n",
       "    (1): MaskedLinear(in_features=10, out_features=10)\n",
       "    (2): MaskedLinear(in_features=10, out_features=10)\n",
       "  )\n",
       "  (skip_p): MaskedLinear(in_features=3, out_features=3)\n",
       "  (skip_q): MaskedLinear(in_features=3, out_features=3)\n",
       "  (p): MaskedLinear(in_features=10, out_features=3)\n",
       "  (q): MaskedLinear(in_features=10, out_features=3)\n",
       "  (loss): BCELoss(\n",
       "  )\n",
       ")"
      ]
     },
     "execution_count": 47,
     "metadata": {},
     "output_type": "execute_result"
    }
   ],
   "source": [
    "observed_dim = 0\n",
    "\n",
    "latent_dim = 3\n",
    "hidden_units = 10\n",
    "hidden_layers = 3\n",
    "\n",
    "dist_est = cde.ConditionalBinaryMADE(observed_dim, latent_dim, hidden_units, hidden_layers)\n",
    "if torch.cuda.is_available():\n",
    "    dist_est.cuda()\n",
    "\n",
    "dist_est"
   ]
  },
  {
   "cell_type": "code",
   "execution_count": 48,
   "metadata": {},
   "outputs": [
    {
     "name": "stdout",
     "output_type": "stream",
     "text": [
      "Sampled from p(latent|parents):\n",
      "\n",
      " Variable containing:\n",
      " 1  1  1\n",
      "[torch.cuda.FloatTensor of size 1x3 (GPU 0)]\n",
      "\n",
      "Evaluate log p(latent|parents):\n",
      "\n",
      " Variable containing:\n",
      "-2.0798\n",
      "[torch.cuda.FloatTensor of size 1 (GPU 0)]\n",
      "\n"
     ]
    }
   ],
   "source": [
    "example_latents = Variable(torch.FloatTensor(example_minibatch[0:5]))\n",
    "if torch.cuda.is_available():\n",
    "    example_latents = example_latents.cuda()\n",
    "\n",
    "print(\"Sampled from p(latent|parents):\\n\\n\", dist_est.sample(cuda=True))\n",
    "print(\"Evaluate log p(latent|parents):\\n\\n\", dist_est.logpdf(example_latents))"
   ]
  },
  {
   "cell_type": "code",
   "execution_count": 49,
   "metadata": {},
   "outputs": [
    {
     "data": {
      "text/plain": [
       "array([[ 1.        ],\n",
       "       [ 0.99626291],\n",
       "       [ 1.00688815],\n",
       "       [ 1.00771654],\n",
       "       [ 1.00486171],\n",
       "       [ 0.99614602],\n",
       "       [ 1.01856863],\n",
       "       [ 1.01435566]], dtype=float32)"
      ]
     },
     "execution_count": 49,
     "metadata": {},
     "output_type": "execute_result"
    }
   ],
   "source": [
    "temp = [list(i) for i in itertools.product([0, 1], repeat=3)]\n",
    "probs = []\n",
    "for i in temp:\n",
    "    example_latents = Variable(torch.FloatTensor([i]))\n",
    "    if torch.cuda.is_available():\n",
    "        example_latents = example_latents.cuda()\n",
    "    temp_prob = np.exp(dist_est.logpdf(example_latents).data.cpu().numpy())\n",
    "    probs.append(temp_prob)\n",
    "probs = np.array(probs)\n",
    "probs/probs[0]"
   ]
  },
  {
   "cell_type": "markdown",
   "metadata": {},
   "source": [
    "## Optimize network parameters\n",
    "\n",
    "The `training_epoch` code samples a synthetic dataset, and performs minibatch updates on it for a while. Optionally, it can decide when to stop by examining synthetic validation data."
   ]
  },
  {
   "cell_type": "code",
   "execution_count": 50,
   "metadata": {},
   "outputs": [],
   "source": [
    "def _iterate_minibatches(outputs, batchsize):\n",
    "    for start_idx in range(0, len(outputs) - batchsize + 1, batchsize):\n",
    "        excerpt = slice(start_idx, start_idx + batchsize)\n",
    "        yield Variable(torch.FloatTensor(outputs[excerpt]))\n",
    "\n",
    "def training_step(optimizer, dist_est, gen_data, dataset_size, batch_size, max_local_iters=10, misstep_tolerance=0, verbose=False):\n",
    "    \"\"\" Training function for fitting density estimator to simulator output \"\"\"\n",
    "    # Train\n",
    "    synthetic_outs = gen_data(dataset_size)\n",
    "    validation_size = dataset_size/10\n",
    "    validation_outs = Variable(torch.FloatTensor(gen_data(validation_size)))\n",
    "    missteps = 0\n",
    "    num_batches = float(dataset_size)/batch_size\n",
    "    \n",
    "    USE_GPU = dist_est.parameters().__next__().is_cuda\n",
    "    if USE_GPU:\n",
    "        validation_outs = validation_outs.cuda()\n",
    "    \n",
    "    validation_err = -torch.mean(dist_est.logpdf(validation_outs)).data[0]\n",
    "    for local_iter in range(max_local_iters):\n",
    "        train_err = 0\n",
    "        for outputs in _iterate_minibatches(synthetic_outs, batch_size):\n",
    "            optimizer.zero_grad()\n",
    "            if USE_GPU:\n",
    "                loss = -torch.mean(dist_est.logpdf(outputs.cuda()))\n",
    "            else:\n",
    "                loss = -torch.mean(dist_est.logpdf(outputs))\n",
    "            loss.backward()\n",
    "            optimizer.step()\n",
    "            train_err += loss.data[0]/num_batches\n",
    "            \n",
    "        next_validation_err = -torch.mean(dist_est.logpdf(validation_outs)).data[0]\n",
    "        if next_validation_err > validation_err:\n",
    "            missteps += 1\n",
    "        validation_err = next_validation_err\n",
    "        if missteps > misstep_tolerance:\n",
    "            break\n",
    "    \n",
    "    if verbose:\n",
    "        print(train_err, validation_err, \"(\", local_iter+1, \")\")\n",
    "#         print(list(dist_est.parameters()))\n",
    "        \n",
    "    return train_err, validation_err, local_iter+1"
   ]
  },
  {
   "cell_type": "code",
   "execution_count": 51,
   "metadata": {},
   "outputs": [],
   "source": [
    "optimizer = torch.optim.Adam(dist_est.parameters())\n",
    "trace_train = []\n",
    "trace_validation = []\n",
    "trace_local_iters = []"
   ]
  },
  {
   "cell_type": "code",
   "execution_count": 52,
   "metadata": {
    "scrolled": false
   },
   "outputs": [
    {
     "name": "stdout",
     "output_type": "stream",
     "text": [
      "[1]\n",
      "2.0681658387184143 2.0593690872192383 ( 1 )\n",
      "[2]\n",
      "2.0521772265434266 2.0443427562713623 ( 1 )\n",
      "[3]\n",
      "2.0386128664016723 2.0319039821624756 ( 1 )\n",
      "[4]\n",
      "2.028230917453766 2.0198733806610107 ( 1 )\n",
      "[5]\n",
      "2.0174867510795593 2.015021800994873 ( 1 )\n",
      "[6]\n",
      "2.009672379493713 2.0021865367889404 ( 1 )\n",
      "[7]\n",
      "2.0006064236164094 1.9990854263305664 ( 1 )\n",
      "[8]\n",
      "1.9950325250625611 1.9943063259124756 ( 1 )\n",
      "[9]\n",
      "1.9898806691169741 1.982088327407837 ( 1 )\n",
      "[10]\n",
      "1.9816863119602208 1.9793322086334229 ( 1 )\n",
      "[11]\n",
      "1.9765742778778073 1.974421501159668 ( 1 )\n",
      "[12]\n",
      "1.9725561678409578 1.965815544128418 ( 1 )\n",
      "[13]\n",
      "1.9663242161273955 1.9613860845565796 ( 1 )\n",
      "[14]\n",
      "1.9631042599678044 1.9570956230163574 ( 1 )\n",
      "[15]\n",
      "1.9628524184226992 1.9576740264892578 ( 1 )\n",
      "[16]\n",
      "1.9573983788490295 1.9570612907409668 ( 1 )\n",
      "[17]\n",
      "1.953846389055252 1.9477713108062744 ( 1 )\n",
      "[18]\n",
      "1.9530676484107972 1.9555960893630981 ( 1 )\n",
      "[19]\n",
      "1.951613438129425 1.9502861499786377 ( 1 )\n",
      "[20]\n",
      "1.9493295669555666 1.9500221014022827 ( 1 )\n",
      "[21]\n",
      "1.950828003883362 1.9481701850891113 ( 1 )\n",
      "[22]\n",
      "1.9470963537693025 1.9513251781463623 ( 1 )\n",
      "[23]\n",
      "1.9473349928855896 1.9491662979125977 ( 1 )\n",
      "[24]\n",
      "1.942848211526871 1.942145824432373 ( 1 )\n",
      "[25]\n",
      "1.94239005446434 1.94315767288208 ( 1 )\n",
      "[26]\n",
      "1.943043339252472 1.9433201551437378 ( 1 )\n",
      "[27]\n",
      "1.9423128545284272 1.927168607711792 ( 1 )\n",
      "[28]\n",
      "1.9430151522159578 1.9445934295654297 ( 1 )\n",
      "[29]\n",
      "1.939807051420212 1.9392918348312378 ( 1 )\n",
      "[30]\n",
      "1.9387648820877073 1.93145751953125 ( 1 )\n",
      "[31]\n",
      "1.9396376311779022 1.9341411590576172 ( 1 )\n",
      "[32]\n",
      "1.9398662090301517 1.939917802810669 ( 1 )\n",
      "[33]\n",
      "1.9419689297676088 1.9327499866485596 ( 1 )\n",
      "[34]\n",
      "1.9377620577812193 1.9372296333312988 ( 1 )\n",
      "[35]\n",
      "1.9376776456832885 1.939418077468872 ( 1 )\n",
      "[36]\n",
      "1.9386434733867643 1.937185287475586 ( 1 )\n",
      "[37]\n",
      "1.9395754635334015 1.9386472702026367 ( 1 )\n",
      "[38]\n",
      "1.9378444433212285 1.9379680156707764 ( 1 )\n",
      "[39]\n",
      "1.9366524457931518 1.9416005611419678 ( 1 )\n",
      "[40]\n",
      "1.93891698718071 1.9402079582214355 ( 1 )\n",
      "[41]\n",
      "1.938457077741623 1.9410045146942139 ( 1 )\n",
      "[42]\n",
      "1.9375079929828647 1.9388482570648193 ( 1 )\n",
      "[43]\n",
      "1.9401149928569794 1.9374006986618042 ( 1 )\n",
      "[44]\n",
      "1.937754124403 1.9402753114700317 ( 1 )\n",
      "[45]\n",
      "1.9381083428859711 1.939979910850525 ( 1 )\n",
      "[46]\n",
      "1.9356783270835873 1.9407093524932861 ( 1 )\n",
      "[47]\n",
      "1.939061164855957 1.9411007165908813 ( 1 )\n",
      "[48]\n",
      "1.9361442089080811 1.9355504512786865 ( 1 )\n",
      "[49]\n",
      "1.936897295713425 1.9418623447418213 ( 1 )\n",
      "[50]\n",
      "1.9365538418293 1.94278883934021 ( 1 )\n",
      "[51]\n",
      "1.9377104699611665 1.936370611190796 ( 1 )\n",
      "[52]\n",
      "1.9362518370151518 1.9490313529968262 ( 1 )\n",
      "[53]\n",
      "1.9366061210632326 1.941572904586792 ( 1 )\n",
      "[54]\n",
      "1.934230953454971 1.932717204093933 ( 1 )\n",
      "[55]\n",
      "1.93848717212677 1.9271103143692017 ( 1 )\n",
      "[56]\n",
      "1.9387210309505463 1.9439160823822021 ( 1 )\n",
      "[57]\n",
      "1.9402846097946167 1.9465436935424805 ( 1 )\n",
      "[58]\n",
      "1.937073528766632 1.9383738040924072 ( 1 )\n",
      "[59]\n",
      "1.9390593647956849 1.9387483596801758 ( 1 )\n",
      "[60]\n",
      "1.9386815667152404 1.9348336458206177 ( 1 )\n",
      "[61]\n",
      "1.9370632648468014 1.9337718486785889 ( 1 )\n",
      "[62]\n",
      "1.9362368583679197 1.9353699684143066 ( 1 )\n",
      "[63]\n",
      "1.9387535393238065 1.9337890148162842 ( 1 )\n",
      "[64]\n",
      "1.9373439073562624 1.9361073970794678 ( 1 )\n",
      "[65]\n",
      "1.9374165594577786 1.9364879131317139 ( 1 )\n",
      "[66]\n",
      "1.9365338265895844 1.941340684890747 ( 1 )\n",
      "[67]\n",
      "1.9374730646610259 1.9310798645019531 ( 1 )\n",
      "[68]\n",
      "1.936773055791855 1.941892385482788 ( 1 )\n",
      "[69]\n",
      "1.9371229231357574 1.9406404495239258 ( 1 )\n",
      "[70]\n",
      "1.9366041362285615 1.9394335746765137 ( 1 )\n",
      "[71]\n",
      "1.939306753873825 1.936480164527893 ( 1 )\n",
      "[72]\n",
      "1.9387233793735505 1.942190408706665 ( 1 )\n",
      "[73]\n",
      "1.9373593688011168 1.941417932510376 ( 1 )\n",
      "[74]\n",
      "1.9364270448684693 1.9364075660705566 ( 1 )\n",
      "[75]\n",
      "1.9359526813030241 1.936132550239563 ( 1 )\n",
      "[76]\n",
      "1.9363345801830292 1.942617654800415 ( 1 )\n",
      "[77]\n",
      "1.9373148262500761 1.9433401823043823 ( 1 )\n",
      "[78]\n",
      "1.9410719811916353 1.9363036155700684 ( 1 )\n",
      "[79]\n",
      "1.9364181160926814 1.9336756467819214 ( 1 )\n",
      "[80]\n",
      "1.9369017302989957 1.931065320968628 ( 1 )\n",
      "[81]\n",
      "1.9377819240093233 1.9389171600341797 ( 1 )\n",
      "[82]\n",
      "1.9382400035858152 1.9392874240875244 ( 1 )\n",
      "[83]\n",
      "1.9384348571300507 1.9442951679229736 ( 1 )\n",
      "[84]\n",
      "1.9371084213256837 1.946918249130249 ( 1 )\n",
      "[85]\n",
      "1.9393992364406585 1.9440432786941528 ( 1 )\n",
      "[86]\n",
      "1.9375540137290959 1.9339420795440674 ( 1 )\n",
      "[87]\n",
      "1.9363960862159728 1.9336669445037842 ( 1 )\n",
      "[88]\n",
      "1.939109265804291 1.9384357929229736 ( 1 )\n",
      "[89]\n",
      "1.9387433886528014 1.9417753219604492 ( 1 )\n",
      "[90]\n",
      "1.9338099002838134 1.9332654476165771 ( 1 )\n",
      "[91]\n",
      "1.937567514181137 1.9435229301452637 ( 1 )\n",
      "[92]\n",
      "1.9348023176193239 1.9371390342712402 ( 1 )\n",
      "[93]\n",
      "1.9386433422565457 1.9441964626312256 ( 1 )\n",
      "[94]\n",
      "1.9360008418560026 1.939016580581665 ( 1 )\n",
      "[95]\n",
      "1.9336041152477266 1.9456827640533447 ( 1 )\n",
      "[96]\n",
      "1.939185810089111 1.9349696636199951 ( 1 )\n",
      "[97]\n",
      "1.938803660869598 1.9376317262649536 ( 1 )\n",
      "[98]\n",
      "1.9398796379566194 1.9395668506622314 ( 1 )\n",
      "[99]\n",
      "1.9401139676570889 1.9371206760406494 ( 1 )\n",
      "[100]\n",
      "1.9388096392154692 1.936344861984253 ( 1 )\n"
     ]
    }
   ],
   "source": [
    "num_iterations = 100\n",
    "dataset_size = 100000\n",
    "batch_size = 5000\n",
    "\n",
    "for i in range(num_iterations):\n",
    "    verbose = (i+1) % 1 == 0\n",
    "    if verbose:\n",
    "        print(\"[\"+str(1+len(trace_train))+\"]\")\n",
    "    t,v,l = training_step(optimizer, dist_est, gen_data, dataset_size, batch_size, verbose=verbose, max_local_iters=1)\n",
    "    trace_train.append(t)\n",
    "    trace_validation.append(v)\n",
    "    trace_local_iters.append(l)"
   ]
  },
  {
   "cell_type": "code",
   "execution_count": 72,
   "metadata": {},
   "outputs": [],
   "source": [
    "temp = [list(i) for i in itertools.product([0, 1], repeat=3)]\n",
    "probs = []\n",
    "for i in temp:\n",
    "    example_latents = Variable(torch.FloatTensor([i]))\n",
    "    if torch.cuda.is_available():\n",
    "        example_latents = example_latents.cuda()\n",
    "    temp_prob = np.exp(dist_est.logpdf(example_latents).data.cpu().numpy())\n",
    "    probs.append(temp_prob)\n",
    "probs = np.array(probs)"
   ]
  },
  {
   "cell_type": "code",
   "execution_count": 73,
   "metadata": {},
   "outputs": [
    {
     "data": {
      "text/plain": [
       "<Container object of 8 artists>"
      ]
     },
     "execution_count": 73,
     "metadata": {},
     "output_type": "execute_result"
    },
    {
     "data": {
      "image/png": "[encoded data removed]",
      "text/plain": [
       "<matplotlib.figure.Figure at 0x7f703d392b38>"
      ]
     },
     "metadata": {},
     "output_type": "display_data"
    }
   ],
   "source": [
    "alpha = .3\n",
    "plt.bar(np.arange(8), probs.flatten().T, alpha=alpha)\n",
    "plt.bar(np.arange(8), a.flatten().T, alpha=alpha)"
   ]
  },
  {
   "cell_type": "code",
   "execution_count": 74,
   "metadata": {},
   "outputs": [
    {
     "data": {
      "image/png": "[encoded data removed]",
      "text/plain": [
       "<matplotlib.figure.Figure at 0x7f703d62d8d0>"
      ]
     },
     "metadata": {},
     "output_type": "display_data"
    }
   ],
   "source": [
    "plt.figure(figsize=(10,3.5))\n",
    "plt.plot(np.array(trace_train))\n",
    "plt.plot(np.array(trace_validation))\n",
    "plt.legend(['train error', 'validation error']);"
   ]
  }
 ],
 "metadata": {
  "kernelspec": {
   "display_name": "Python 3",
   "language": "python",
   "name": "python3"
  },
  "language_info": {
   "codemirror_mode": {
    "name": "ipython",
    "version": 3
   },
   "file_extension": ".py",
   "mimetype": "text/x-python",
   "name": "python",
   "nbconvert_exporter": "python",
   "pygments_lexer": "ipython3",
   "version": "3.6.3"
  }
 },
 "nbformat": 4,
 "nbformat_minor": 1
}
