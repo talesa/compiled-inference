{
 "cells": [
  {
   "cell_type": "code",
   "execution_count": 1,
   "metadata": {},
   "outputs": [],
   "source": [
    "%load_ext autoreload\n",
    "%autoreload 2\n",
    "\n",
    "import numpy as np\n",
    "import torch\n",
    "from torch.autograd import Variable\n",
    "import sys, inspect\n",
    "sys.path.insert(0, '..')\n",
    "\n",
    "%matplotlib inline\n",
    "import pymc\n",
    "import matplotlib.pyplot as plt\n",
    "\n",
    "from learn_smc_proposals import cde\n",
    "from learn_smc_proposals.utils import systematic_resample\n",
    "\n",
    "import seaborn as sns\n",
    "sns.set_context(\"notebook\", font_scale=1.5, rc={\"lines.markersize\": 12})\n",
    "sns.set_style('ticks')\n",
    "\n",
    "import itertools"
   ]
  },
  {
   "cell_type": "markdown",
   "metadata": {},
   "source": [
    "Define 3 binary variables joint distribution"
   ]
  },
  {
   "cell_type": "code",
   "execution_count": 2,
   "metadata": {},
   "outputs": [
    {
     "data": {
      "text/plain": [
       "(2, 2, 2)"
      ]
     },
     "execution_count": 2,
     "metadata": {},
     "output_type": "execute_result"
    }
   ],
   "source": [
    "a = np.array([[[1, 2], [3, 4]], [[5, 6], [7, 8]]])\n",
    "a = a/np.sum(a)\n",
    "a.shape"
   ]
  },
  {
   "cell_type": "code",
   "execution_count": 3,
   "metadata": {},
   "outputs": [
    {
     "data": {
      "text/plain": [
       "array([[[ 0.02777778,  0.05555556],\n",
       "        [ 0.08333333,  0.11111111]],\n",
       "\n",
       "       [[ 0.13888889,  0.16666667],\n",
       "        [ 0.19444444,  0.22222222]]])"
      ]
     },
     "execution_count": 3,
     "metadata": {},
     "output_type": "execute_result"
    }
   ],
   "source": [
    "a"
   ]
  },
  {
   "cell_type": "markdown",
   "metadata": {},
   "source": [
    "Check if not independent"
   ]
  },
  {
   "cell_type": "code",
   "execution_count": 4,
   "metadata": {},
   "outputs": [],
   "source": [
    "marginal = lambda i: a.sum(axis=tuple({0,1,2}.difference({i})))"
   ]
  },
  {
   "cell_type": "code",
   "execution_count": 5,
   "metadata": {},
   "outputs": [],
   "source": [
    "for i in itertools.product([0, 1], repeat=3):\n",
    "    assert(not np.isclose(marginal(0)[i[0]]*marginal(1)[i[1]]*marginal(2)[i[2]], a[i[0],i[1],i[2]]))"
   ]
  },
  {
   "cell_type": "markdown",
   "metadata": {},
   "source": [
    "Sample values"
   ]
  },
  {
   "cell_type": "code",
   "execution_count": 6,
   "metadata": {},
   "outputs": [],
   "source": [
    "def generate_synthetic(size=100):\n",
    "    size = int(size)\n",
    "    c = np.digitize(np.random.uniform(size=(size,1)), np.cumsum(a))\n",
    "    d = np.unravel_index(c, a.shape)\n",
    "    e = np.squeeze(np.dstack(d))\n",
    "    latent = np.atleast_2d(e)\n",
    "    return latent\n",
    "\n",
    "gen_data = lambda num_samples: generate_synthetic(num_samples)\n",
    "example_minibatch = gen_data(100)"
   ]
  },
  {
   "cell_type": "code",
   "execution_count": 7,
   "metadata": {},
   "outputs": [
    {
     "data": {
      "text/plain": [
       "array([ 1.        ,  1.98240764,  3.00244139,  3.98782896,  4.98825979,\n",
       "        5.97558611,  6.9895882 ,  7.9766632 ])"
      ]
     },
     "execution_count": 7,
     "metadata": {},
     "output_type": "execute_result"
    }
   ],
   "source": [
    "n = 1000000\n",
    "aa = np.unique(gen_data(n), axis=0,return_counts=True)[1]\n",
    "aa/aa[0]"
   ]
  },
  {
   "cell_type": "code",
   "execution_count": 8,
   "metadata": {},
   "outputs": [
    {
     "data": {
      "text/plain": [
       "ConditionalBinaryMADE(\n",
       "  (relu): ReLU()\n",
       "  (layers): ModuleList(\n",
       "    (0): MaskedLinear(in_features=3, out_features=1)\n",
       "  )\n",
       "  (skip_p): MaskedLinear(in_features=3, out_features=3)\n",
       "  (skip_q): MaskedLinear(in_features=3, out_features=3)\n",
       "  (p): MaskedLinear(in_features=1, out_features=3)\n",
       "  (q): MaskedLinear(in_features=1, out_features=3)\n",
       "  (loss): BCELoss(\n",
       "  )\n",
       ")"
      ]
     },
     "execution_count": 8,
     "metadata": {},
     "output_type": "execute_result"
    }
   ],
   "source": [
    "observed_dim = 0\n",
    "\n",
    "latent_dim = 3\n",
    "hidden_units = 1\n",
    "hidden_layers = 1\n",
    "\n",
    "dist_est = cde.ConditionalBinaryMADE(observed_dim, latent_dim, hidden_units, hidden_layers)\n",
    "if torch.cuda.is_available():\n",
    "    dist_est.cuda()\n",
    "\n",
    "dist_est"
   ]
  },
  {
   "cell_type": "code",
   "execution_count": 9,
   "metadata": {},
   "outputs": [
    {
     "name": "stdout",
     "output_type": "stream",
     "text": [
      "Sampled from p(latent|parents):\n",
      "\n",
      " Variable containing:\n",
      " 0  1  1\n",
      "[torch.cuda.FloatTensor of size 1x3 (GPU 0)]\n",
      "\n",
      "Evaluate log p(latent|parents):\n",
      "\n",
      " Variable containing:\n",
      "-2.0784\n",
      "[torch.cuda.FloatTensor of size 1 (GPU 0)]\n",
      "\n"
     ]
    }
   ],
   "source": [
    "example_latents = Variable(torch.FloatTensor(example_minibatch[0:5]))\n",
    "if torch.cuda.is_available():\n",
    "    example_latents = example_latents.cuda()\n",
    "\n",
    "print(\"Sampled from p(latent|parents):\\n\\n\", dist_est.sample(cuda=True))\n",
    "print(\"Evaluate log p(latent|parents):\\n\\n\", dist_est.logpdf(example_latents))"
   ]
  },
  {
   "cell_type": "code",
   "execution_count": 10,
   "metadata": {},
   "outputs": [
    {
     "data": {
      "text/plain": [
       "array([[ 1.        ],\n",
       "       [ 1.00251591],\n",
       "       [ 0.99922496],\n",
       "       [ 0.9903124 ],\n",
       "       [ 1.00439131],\n",
       "       [ 1.00264347],\n",
       "       [ 1.01332104],\n",
       "       [ 1.00001931]], dtype=float32)"
      ]
     },
     "execution_count": 10,
     "metadata": {},
     "output_type": "execute_result"
    }
   ],
   "source": [
    "temp = [list(i) for i in itertools.product([0, 1], repeat=3)]\n",
    "probs = []\n",
    "for i in temp:\n",
    "    example_latents = Variable(torch.FloatTensor([i]))\n",
    "    if torch.cuda.is_available():\n",
    "        example_latents = example_latents.cuda()\n",
    "    temp_prob = np.exp(dist_est.logpdf(example_latents).data.cpu().numpy())\n",
    "    probs.append(temp_prob)\n",
    "probs = np.array(probs)\n",
    "probs/probs[0]"
   ]
  },
  {
   "cell_type": "markdown",
   "metadata": {},
   "source": [
    "## Optimize network parameters\n",
    "\n",
    "The `training_epoch` code samples a synthetic dataset, and performs minibatch updates on it for a while. Optionally, it can decide when to stop by examining synthetic validation data."
   ]
  },
  {
   "cell_type": "code",
   "execution_count": 11,
   "metadata": {},
   "outputs": [],
   "source": [
    "def _iterate_minibatches(outputs, batchsize):\n",
    "    for start_idx in range(0, len(outputs) - batchsize + 1, batchsize):\n",
    "        excerpt = slice(start_idx, start_idx + batchsize)\n",
    "        yield Variable(torch.FloatTensor(outputs[excerpt]))\n",
    "\n",
    "def training_step(optimizer, dist_est, gen_data, dataset_size, batch_size, max_local_iters=10, misstep_tolerance=0, verbose=False):\n",
    "    \"\"\" Training function for fitting density estimator to simulator output \"\"\"\n",
    "    # Train\n",
    "    synthetic_outs = gen_data(dataset_size)\n",
    "    validation_size = dataset_size/10\n",
    "    validation_outs = Variable(torch.FloatTensor(gen_data(validation_size)))\n",
    "    missteps = 0\n",
    "    num_batches = float(dataset_size)/batch_size\n",
    "    \n",
    "    USE_GPU = dist_est.parameters().__next__().is_cuda\n",
    "    if USE_GPU:\n",
    "        validation_outs = validation_outs.cuda()\n",
    "    \n",
    "    validation_err = -torch.mean(dist_est.logpdf(validation_outs)).data[0]\n",
    "    for local_iter in range(max_local_iters):\n",
    "        train_err = 0\n",
    "        for outputs in _iterate_minibatches(synthetic_outs, batch_size):\n",
    "            optimizer.zero_grad()\n",
    "            if USE_GPU:\n",
    "                loss = -torch.mean(dist_est.logpdf(outputs.cuda()))\n",
    "            else:\n",
    "                loss = -torch.mean(dist_est.logpdf(outputs))\n",
    "            loss.backward()\n",
    "            optimizer.step()\n",
    "            train_err += loss.data[0]/num_batches\n",
    "            \n",
    "        next_validation_err = -torch.mean(dist_est.logpdf(validation_outs)).data[0]\n",
    "        if next_validation_err > validation_err:\n",
    "            missteps += 1\n",
    "        validation_err = next_validation_err\n",
    "        if missteps > misstep_tolerance:\n",
    "            break\n",
    "    \n",
    "    if verbose:\n",
    "        print(train_err, validation_err, \"(\", local_iter+1, \")\")\n",
    "#         print(list(dist_est.parameters()))\n",
    "        \n",
    "    return train_err, validation_err, local_iter+1"
   ]
  },
  {
   "cell_type": "code",
   "execution_count": 12,
   "metadata": {},
   "outputs": [],
   "source": [
    "optimizer = torch.optim.Adam(dist_est.parameters())\n",
    "trace_train = []\n",
    "trace_validation = []\n",
    "trace_local_iters = []"
   ]
  },
  {
   "cell_type": "code",
   "execution_count": 13,
   "metadata": {
    "scrolled": false
   },
   "outputs": [
    {
     "name": "stdout",
     "output_type": "stream",
     "text": [
      "[100]\n",
      "1.9393263936042788 1.933097004890442 ( 1 )\n"
     ]
    }
   ],
   "source": [
    "num_iterations = 100\n",
    "dataset_size = 100000\n",
    "batch_size = 5000\n",
    "\n",
    "for i in range(num_iterations):\n",
    "    verbose = (i+1) % 100 == 0\n",
    "    if verbose:\n",
    "        print(\"[\"+str(1+len(trace_train))+\"]\")\n",
    "    t,v,l = training_step(optimizer, dist_est, gen_data, dataset_size, batch_size, verbose=verbose, max_local_iters=1)\n",
    "    trace_train.append(t)\n",
    "    trace_validation.append(v)\n",
    "    trace_local_iters.append(l)"
   ]
  },
  {
   "cell_type": "code",
   "execution_count": 14,
   "metadata": {},
   "outputs": [],
   "source": [
    "temp = [list(i) for i in itertools.product([0, 1], repeat=3)]\n",
    "probs = []\n",
    "for i in temp:\n",
    "    example_latents = Variable(torch.FloatTensor([i]))\n",
    "    if torch.cuda.is_available():\n",
    "        example_latents = example_latents.cuda()\n",
    "    temp_prob = np.exp(dist_est.logpdf(example_latents).data.cpu().numpy())\n",
    "    probs.append(temp_prob)\n",
    "probs = np.array(probs)"
   ]
  },
  {
   "cell_type": "code",
   "execution_count": 15,
   "metadata": {},
   "outputs": [
    {
     "data": {
      "text/plain": [
       "<Container object of 8 artists>"
      ]
     },
     "execution_count": 15,
     "metadata": {},
     "output_type": "execute_result"
    },
    {
     "data": {
      "image/png": "[encoded data removed]",
      "text/plain": [
       "<matplotlib.figure.Figure at 0x7ff6a53dd588>"
      ]
     },
     "metadata": {},
     "output_type": "display_data"
    }
   ],
   "source": [
    "alpha = .3\n",
    "plt.bar(np.arange(8), probs.flatten().T, alpha=alpha)\n",
    "plt.bar(np.arange(8), a.flatten().T, alpha=alpha)"
   ]
  },
  {
   "cell_type": "code",
   "execution_count": 16,
   "metadata": {},
   "outputs": [
    {
     "data": {
      "image/png": "[encoded data removed]",
      "text/plain": [
       "<matplotlib.figure.Figure at 0x7ff7586e3390>"
      ]
     },
     "metadata": {},
     "output_type": "display_data"
    }
   ],
   "source": [
    "plt.figure(figsize=(10,3.5))\n",
    "plt.plot(np.array(trace_train))\n",
    "plt.plot(np.array(trace_validation))\n",
    "plt.legend(['train error', 'validation error']);"
   ]
  },
  {
   "cell_type": "code",
   "execution_count": null,
   "metadata": {},
   "outputs": [],
   "source": []
  }
 ],
 "metadata": {
  "kernelspec": {
   "display_name": "Python 3",
   "language": "python",
   "name": "python3"
  },
  "language_info": {
   "codemirror_mode": {
    "name": "ipython",
    "version": 3
   },
   "file_extension": ".py",
   "mimetype": "text/x-python",
   "name": "python",
   "nbconvert_exporter": "python",
   "pygments_lexer": "ipython3",
   "version": "3.6.3"
  }
 },
 "nbformat": 4,
 "nbformat_minor": 1
}
