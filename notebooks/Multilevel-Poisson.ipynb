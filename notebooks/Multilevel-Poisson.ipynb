{
 "cells": [
  {
   "cell_type": "code",
   "execution_count": 1,
   "metadata": {
    "collapsed": false,
    "deletable": true,
    "editable": true
   },
   "outputs": [
    {
     "name": "stdout",
     "output_type": "stream",
     "text": [
      "Couldn't import dot_parser, loading of dot files will not be possible.\n"
     ]
    }
   ],
   "source": [
    "import numpy as np\n",
    "import torch\n",
    "from scipy import stats\n",
    "from torch.autograd import Variable\n",
    "import sys, inspect\n",
    "sys.path.insert(0, '..')\n",
    "\n",
    "%matplotlib inline\n",
    "import pymc\n",
    "import matplotlib.pyplot as plt\n",
    "\n",
    "from learn_smc_proposals import cde\n",
    "from learn_smc_proposals.examples import multilevel_poisson\n",
    "\n",
    "import seaborn as sns\n",
    "sns.set_context(\"notebook\", font_scale=1.5, rc={\"lines.markersize\": 12})\n",
    "sns.set_style('ticks')"
   ]
  },
  {
   "cell_type": "markdown",
   "metadata": {
    "deletable": true,
    "editable": true
   },
   "source": [
    "# Learn a multilevel model\n",
    "\n",
    "We're going to learn the model for the PUMPS data:\n",
    "\n",
    "http://www.openbugs.net/Examples/Pumps.html\n",
    "\n",
    "This model has local parameters $\\theta_i$ and global parameters $\\alpha, \\beta$."
   ]
  },
  {
   "cell_type": "code",
   "execution_count": 2,
   "metadata": {
    "collapsed": false,
    "deletable": true,
    "editable": true
   },
   "outputs": [],
   "source": [
    "theta_est, params_est = multilevel_poisson.get_estimators()\n",
    "theta_est.load_state_dict(torch.load('../saved/trained_poisson_theta.rar'))\n",
    "params_est.load_state_dict(torch.load('../saved/trained_poisson_params.rar'))"
   ]
  },
  {
   "cell_type": "code",
   "execution_count": 3,
   "metadata": {
    "collapsed": true,
    "deletable": true,
    "editable": true
   },
   "outputs": [],
   "source": [
    "true_t = np.array([94.3, 15.7, 62.9, 126, 5.24, 31.4, 1.05, 1.05, 2.1, 10.5])\n",
    "true_x = np.array([5, 1, 5, 14, 3, 19, 1, 1, 4, 22])"
   ]
  },
  {
   "cell_type": "markdown",
   "metadata": {
    "deletable": true,
    "editable": true
   },
   "source": [
    "### Training; synthetic data\n",
    "\n",
    "We can use our model to define synthetic data, which we will use to train the inference network.\n",
    "\n",
    "Each \"minibatch\" will be an unconditioned sample from the graphical model."
   ]
  },
  {
   "cell_type": "markdown",
   "metadata": {
    "deletable": true,
    "editable": true
   },
   "source": [
    "Values on true data, as reported in the George et al. (1993) are:\n",
    "    \n",
    "    theta = [0.060 0.102 0.089 0.116 0.602 0.609 0.891 0.894 1.588 1.994 ]\n",
    "    alpha = 0.7 \n",
    "    beta = 0.9 \n",
    "    \n",
    "We'll run MCMC here to get benchmark estimates of the posterior distributions."
   ]
  },
  {
   "cell_type": "code",
   "execution_count": 4,
   "metadata": {
    "collapsed": false,
    "deletable": true,
    "editable": true
   },
   "outputs": [],
   "source": [
    "real_data = Variable(torch.FloatTensor(np.vstack((true_x, true_t)).T))"
   ]
  },
  {
   "cell_type": "code",
   "execution_count": 5,
   "metadata": {
    "collapsed": false
   },
   "outputs": [],
   "source": [
    "M_train = pymc.Model(multilevel_poisson.gamma_poisson(None,None))\n",
    "M_test = pymc.Model(multilevel_poisson.gamma_poisson(true_x, true_t))"
   ]
  },
  {
   "cell_type": "code",
   "execution_count": 6,
   "metadata": {
    "collapsed": true,
    "deletable": true,
    "editable": true
   },
   "outputs": [],
   "source": [
    "def estimate_MCMC(data_x, data_t, ns, iters=10000, burn=0.5):\n",
    "    \"\"\" MCMC estimate of weight distribution \"\"\"\n",
    "    mcmc_est = pymc.MCMC(multilevel_poisson.gamma_poisson(data_x, data_t))\n",
    "    mcmc_est.sample(iters, burn=burn*iters, thin=np.ceil(burn*iters/ns))\n",
    "    trace_theta = mcmc_est.trace('theta').gettrace()[:ns]\n",
    "    trace_alpha = mcmc_est.trace('alpha').gettrace()[:ns]\n",
    "    trace_beta = mcmc_est.trace('beta').gettrace()[:ns]\n",
    "    return trace_theta, trace_alpha, trace_beta"
   ]
  },
  {
   "cell_type": "code",
   "execution_count": 7,
   "metadata": {
    "collapsed": false,
    "deletable": true,
    "editable": true
   },
   "outputs": [
    {
     "name": "stdout",
     "output_type": "stream",
     "text": [
      " [-----------------100%-----------------] 500000 of 500000 complete in 69.2 sec\n",
      "\n",
      "MCMC Estimated theta: [ 0.059  0.101  0.09   0.115  0.517  0.56   1.168  0.794  1.731  1.909]\n",
      "\n",
      "MCMC Estimated (alpha, beta): 0.683 0.905\n"
     ]
    }
   ],
   "source": [
    "mcmc_theta, mcmc_alpha, mcmc_beta = estimate_MCMC(true_x, true_t, ns=1000, iters=500000)\n",
    "# print \"MCMC MSE\", np.mean((mcmc_theta.mean(0) - true_theta)**2)\n",
    "\n",
    "true_alpha = mcmc_alpha.mean()\n",
    "true_beta = mcmc_beta.mean()\n",
    "true_theta = mcmc_theta.mean(0)\n",
    "\n",
    "print \"\\n\\nMCMC Estimated theta:\", true_theta.round(3)\n",
    "print \"\\nMCMC Estimated (alpha, beta):\", true_alpha.round(3), true_beta.round(3)"
   ]
  },
  {
   "cell_type": "markdown",
   "metadata": {},
   "source": [
    "## Comparison: samples from the proposal, and the MCMC posterior"
   ]
  },
  {
   "cell_type": "code",
   "execution_count": 8,
   "metadata": {
    "collapsed": false,
    "deletable": true,
    "editable": true
   },
   "outputs": [],
   "source": [
    "def draw_inverse(ns=100):\n",
    "    tmp = theta_est.sample(real_data, ns=ns).squeeze(2)\n",
    "    samples = params_est.sample(tmp, ns=1)\n",
    "    return tmp.cpu().data.numpy(), samples.cpu().data.numpy()"
   ]
  },
  {
   "cell_type": "code",
   "execution_count": 9,
   "metadata": {
    "collapsed": false,
    "deletable": true,
    "editable": true
   },
   "outputs": [],
   "source": [
    "nn_raw_theta, nn_raw_params = draw_inverse(1000)"
   ]
  },
  {
   "cell_type": "code",
   "execution_count": 10,
   "metadata": {
    "collapsed": false,
    "deletable": true,
    "editable": true
   },
   "outputs": [
    {
     "data": {
      "image/png": "[encoded data removed]",
      "text/plain": [
       "<matplotlib.figure.Figure at 0x10ce6a2d0>"
      ]
     },
     "metadata": {},
     "output_type": "display_data"
    }
   ],
   "source": [
    "plt.figure(figsize=(20,6))\n",
    "for i in range(10):\n",
    "    plt.subplot(2,5,i+1)\n",
    "    plt.hist(mcmc_theta[:,i], normed=True);\n",
    "    plt.hist(nn_raw_theta[:,i], alpha=0.7, normed=True, bins=20);\n",
    "    plt.title(\"theta_\"+str(i))\n",
    "    plt.legend(['MCMC', 'NN'])\n",
    "    \n",
    "plt.tight_layout()"
   ]
  },
  {
   "cell_type": "code",
   "execution_count": 11,
   "metadata": {
    "collapsed": false,
    "deletable": true,
    "editable": true
   },
   "outputs": [
    {
     "data": {
      "image/png": "[encoded data removed]",
      "text/plain": [
       "<matplotlib.figure.Figure at 0x10f235e50>"
      ]
     },
     "metadata": {},
     "output_type": "display_data"
    }
   ],
   "source": [
    "bins = 20\n",
    "a = .7\n",
    "\n",
    "plt.figure(figsize=(9,3.75))\n",
    "plt.subplot(121)\n",
    "plt.hist(mcmc_alpha, normed=True, bins=bins, color=sns.color_palette()[0], histtype='stepfilled', linewidth=2.0, alpha=a);\n",
    "plt.hist(nn_raw_params[:,0], color=sns.color_palette()[2], normed=True, bins=bins, histtype='stepfilled', linewidth=2.0, alpha=a);\n",
    "# plt.hist(nn_raw_samples[:,0], normed=True, bins=bins, histtype='step', linewidth=2.0);\n",
    "plt.hist(stats.expon(scale=1.0).rvs(10000), color=sns.color_palette()[5], normed=True, bins=2*bins, histtype='stepfilled', linewidth=2.0, alpha=a);\n",
    "plt.xlim((0,5))\n",
    "# plt.xlim((0,plt.xlim()[1]))\n",
    "plt.xlabel(\"$\\\\alpha$\")\n",
    "plt.subplot(122)\n",
    "plt.hist(mcmc_beta, normed=True, bins=bins, color=sns.color_palette()[0], histtype='stepfilled', linewidth=2.0, alpha=a);\n",
    "# plt.hist(nn_raw_samples[:,1], normed=True, bins=bins, histtype='step', linewidth=2.0);\n",
    "plt.hist(nn_raw_params[:,1], normed=True, color=sns.color_palette()[2], bins=bins, histtype='stepfilled', linewidth=2.0, alpha=a);\n",
    "plt.hist(stats.gamma(a=0.1, scale=1.0).rvs(10000), color=sns.color_palette()[5], normed=True, bins=2*bins, histtype='stepfilled', linewidth=2.0, alpha=a);\n",
    "plt.xlim((0,3.5))\n",
    "# plt.xlim((0,plt.xlim()[1]))\n",
    "plt.ylim(0,4)\n",
    "plt.legend(['MCMC', 'NN', 'Prior'])\n",
    "plt.xlabel(\"$\\\\beta$\")\n",
    "plt.tight_layout()\n",
    "# plt.savefig(\"poisson-params-alt.pdf\")"
   ]
  },
  {
   "cell_type": "markdown",
   "metadata": {
    "deletable": true,
    "editable": true
   },
   "source": [
    "## Simple benchmark: likelihood weighting\n",
    "\n",
    "Using the prior as a proposal, relative to using the learned network, what do we gain in terms of effective sample size?"
   ]
  },
  {
   "cell_type": "code",
   "execution_count": 12,
   "metadata": {
    "collapsed": false,
    "deletable": true,
    "editable": true
   },
   "outputs": [],
   "source": [
    "def bootstrap_propose(model):\n",
    "    success = False\n",
    "    while success == False:\n",
    "        try:\n",
    "            model.alpha.rand()\n",
    "            model.beta.rand()\n",
    "            model.theta.rand()\n",
    "            success = True\n",
    "        except:\n",
    "            pass\n",
    "    try:\n",
    "        weight = model.x.logp\n",
    "    except:\n",
    "        weight = -np.Inf\n",
    "    return weight\n",
    "\n",
    "def bootstrap_IS(model, ns=100):\n",
    "    theta = np.empty((ns,10))\n",
    "    params = np.empty((ns,2))\n",
    "    log_w = np.empty((ns,))\n",
    "    for n in range(ns):\n",
    "        log_w[n] = bootstrap_propose(model)\n",
    "        theta[n] = model.theta.value\n",
    "        params[n] = [model.alpha.value, model.beta.value]\n",
    "    return theta, params, log_w\n",
    "\n",
    "def normalize_log_weights(log_w):\n",
    "    safe_log_w = np.array(log_w)\n",
    "    safe_log_w[np.isnan(log_w)] = np.NINF\n",
    "    A = safe_log_w.max()\n",
    "    log_denom = np.log(np.sum(np.exp(safe_log_w - A))) + A\n",
    "    return np.exp(safe_log_w - log_denom)\n",
    "\n",
    "def systematic_resample(weights):\n",
    "    ns = len(weights)\n",
    "    cdf = np.cumsum(weights)\n",
    "    cutoff = (np.random.rand() + np.arange(ns))/ns\n",
    "    return np.digitize(cutoff, cdf)"
   ]
  },
  {
   "cell_type": "code",
   "execution_count": 13,
   "metadata": {
    "collapsed": true
   },
   "outputs": [],
   "source": [
    "def nn_IS(model, ns=100):\n",
    "    # theta\n",
    "    theta, log_q = theta_est.propose(real_data, ns=ns)\n",
    "    theta = theta.data.cpu().numpy().squeeze(2)\n",
    "    log_w = -log_q.data.cpu().numpy().sum(1)\n",
    "    # alpha, beta\n",
    "    params, log_q = params_est.propose(Variable(torch.Tensor(theta)))\n",
    "    alpha = params.data.cpu().numpy()[:,0] #np.empty((ns,))\n",
    "    beta = params.data.cpu().numpy()[:,1] # np.empty((ns,))\n",
    "    log_w -= log_q.data.cpu().numpy().squeeze(1)\n",
    "    # likelihood\n",
    "    log_w += stats.poisson(model.t.value * theta).logpmf(model.x.value).sum(1)\n",
    "    log_w += stats.gamma(a=alpha[:,None], scale=1.0/beta[:,None]).logpdf(theta).sum(1)\n",
    "    log_w += stats.expon(scale=1.0).logpdf(alpha)\n",
    "    log_w += stats.gamma(a=0.1, scale=1.0).logpdf(beta)\n",
    "    log_w[np.isnan(log_w)] = np.NINF\n",
    "    return theta, params.data.cpu().numpy(), log_w"
   ]
  },
  {
   "cell_type": "code",
   "execution_count": 14,
   "metadata": {
    "collapsed": false
   },
   "outputs": [],
   "source": [
    "nn_theta,nn_params,nn_log_w = nn_IS(M_test, ns=10000)"
   ]
  },
  {
   "cell_type": "code",
   "execution_count": 15,
   "metadata": {
    "collapsed": false
   },
   "outputs": [],
   "source": [
    "boostrap_theta,bootstrap_params,bootstrap_log_w = bootstrap_IS(M_test, ns=10000)"
   ]
  },
  {
   "cell_type": "code",
   "execution_count": 16,
   "metadata": {
    "collapsed": false
   },
   "outputs": [
    {
     "name": "stdout",
     "output_type": "stream",
     "text": [
      "Effective sample size (benchmark): 1.00000175273\n",
      "Effective sample size (NN): 323.396998175\n"
     ]
    }
   ],
   "source": [
    "print \"Effective sample size (benchmark):\", 1.0/np.sum(normalize_log_weights(bootstrap_log_w)**2)\n",
    "print \"Effective sample size (NN):\", 1.0/np.sum(normalize_log_weights(nn_log_w)**2)"
   ]
  },
  {
   "cell_type": "markdown",
   "metadata": {},
   "source": [
    "### Define a method for running divide-and-conquer SMC\n",
    "\n",
    "This algorithm first proposes values across all thetas, then resamples prior to proposing alpha and beta."
   ]
  },
  {
   "cell_type": "code",
   "execution_count": 17,
   "metadata": {
    "collapsed": true
   },
   "outputs": [],
   "source": [
    "def run_DCSMC(model, ns=100, return_extras=False):\n",
    "    # stage one\n",
    "    num_points = 10\n",
    "    theta, log_q = theta_est.propose(real_data, ns=ns)\n",
    "    theta = theta.data.cpu().numpy().squeeze(2)\n",
    "    log_w = -log_q.data.cpu().numpy()\n",
    "    \n",
    "    log_w += stats.poisson(model.t.value * theta).logpmf(model.x.value)\n",
    "    \n",
    "    log_w[np.isnan(log_w)] = np.NINF\n",
    "    \n",
    "    Z_est = np.log(np.exp(log_w).mean(0))\n",
    "    \n",
    "#     print Z_est\n",
    "    \n",
    "    for i in range(num_points):\n",
    "        indices = systematic_resample(normalize_log_weights(log_w[:,i]))\n",
    "        np.random.shuffle(indices)\n",
    "        theta[:,i] = theta[indices,i]\n",
    "\n",
    "    # Now: we have unweighted samples for each theta[:,i]\n",
    "    # ... and we have Z estimates for each i. What is next?\n",
    "    \n",
    "    # Sample values of alpha, beta\n",
    "    params, log_q = params_est.propose(Variable(torch.Tensor(theta)))\n",
    "    alpha = params.data.cpu().numpy()[:,0] #np.empty((ns,))\n",
    "    beta = params.data.cpu().numpy()[:,1] # np.empty((ns,))\n",
    "    log_w = -log_q.data.cpu().numpy().squeeze(1)\n",
    "    \n",
    "    # Merge\n",
    "    tmp = stats.gamma(a=alpha[:,None], scale=1.0/beta[:,None])\n",
    "    log_w += tmp.logpdf(theta).sum(1)\n",
    "    log_w += stats.expon(scale=1.0).logpdf(alpha)\n",
    "    log_w += stats.gamma(a=0.1, scale=1.0).logpdf(beta)\n",
    "    \n",
    "    assert(log_w.shape == (ns,))\n",
    "    \n",
    "    indices = systematic_resample(normalize_log_weights(log_w))\n",
    "    \n",
    "    log_w[np.isnan(log_w)] = np.NINF\n",
    "    \n",
    "    Z_est = Z_est.sum() + np.log(np.exp(log_w).mean())\n",
    "    \n",
    "    if return_extras:\n",
    "        alpha_orig = np.array(alpha)\n",
    "        beta_orig = np.array(beta)\n",
    "    \n",
    "    alpha = alpha[indices]\n",
    "    beta = beta[indices]\n",
    "    theta = theta[indices]\n",
    "    \n",
    "    if return_extras:\n",
    "        return theta, alpha, beta, Z_est, alpha_orig, beta_orig\n",
    "    else:\n",
    "        return theta, alpha, beta, Z_est"
   ]
  },
  {
   "cell_type": "markdown",
   "metadata": {},
   "source": [
    "# Compare importance sampling with NN proposals, proposals from prior, and divide-and-conquer SMC with NN proposals"
   ]
  },
  {
   "cell_type": "code",
   "execution_count": 18,
   "metadata": {
    "collapsed": true
   },
   "outputs": [],
   "source": [
    "sizes = [5, 10, 50, 100, 500, 1000, 5000, 10000]\n",
    "\n",
    "replications = 10"
   ]
  },
  {
   "cell_type": "code",
   "execution_count": 19,
   "metadata": {
    "collapsed": false
   },
   "outputs": [],
   "source": [
    "dcsmc_results_Z = np.empty((replications, len(sizes)))\n",
    "dcsmc_results_L2 = np.empty((replications, len(sizes)))\n",
    "\n",
    "for c, size in enumerate(sizes):\n",
    "    for rep in range(replications):\n",
    "        tmp_theta, tmp_alpha, tmp_beta, Z_est = run_DCSMC(M_test, size)\n",
    "\n",
    "        dcsmc_results_L2[rep,c] = np.sqrt(np.mean((tmp_theta.mean(0) - true_theta)**2))\n",
    "        dcsmc_results_Z[rep,c] = Z_est"
   ]
  },
  {
   "cell_type": "code",
   "execution_count": 20,
   "metadata": {
    "collapsed": false
   },
   "outputs": [
    {
     "name": "stderr",
     "output_type": "stream",
     "text": [
      "/Library/Python/2.7/site-packages/ipykernel/__main__.py:7: RuntimeWarning: divide by zero encountered in log\n"
     ]
    }
   ],
   "source": [
    "lwis_results_Z = np.empty((replications, len(sizes)))\n",
    "lwis_results_L2 = np.empty((replications, len(sizes)))\n",
    "\n",
    "for c, size in enumerate(sizes):\n",
    "    for rep in range(replications):\n",
    "        bootstrap_theta, _, bootstrap_log_w = bootstrap_IS(M_test, ns=size)\n",
    "        Z_est = np.log(np.exp(bootstrap_log_w).mean())\n",
    "        mean_est = np.dot(bootstrap_theta.T, normalize_log_weights(bootstrap_log_w))\n",
    "        lwis_results_L2[rep,c] = np.sqrt(np.mean((mean_est - true_theta)**2))\n",
    "        lwis_results_Z[rep,c] = Z_est\n"
   ]
  },
  {
   "cell_type": "code",
   "execution_count": 21,
   "metadata": {
    "collapsed": true
   },
   "outputs": [],
   "source": [
    "nnis_results_Z = np.empty((replications, len(sizes)))\n",
    "nnis_results_L2 = np.empty((replications, len(sizes)))\n",
    "\n",
    "for c, size in enumerate(sizes):\n",
    "    for rep in range(replications):\n",
    "        nnis_theta, _, nnis_log_w = nn_IS(M_test, ns=size)\n",
    "        Z_est = np.log(np.exp(nnis_log_w).mean())\n",
    "        mean_est = np.dot(nnis_theta.T, normalize_log_weights(nnis_log_w))\n",
    "        nnis_results_L2[rep,c] = np.sqrt(np.mean((mean_est - true_theta)**2))\n",
    "        nnis_results_Z[rep,c] = Z_est\n"
   ]
  },
  {
   "cell_type": "code",
   "execution_count": 22,
   "metadata": {
    "collapsed": false
   },
   "outputs": [
    {
     "name": "stderr",
     "output_type": "stream",
     "text": [
      "/usr/local/lib/python2.7/site-packages/numpy/lib/nanfunctions.py:1304: RuntimeWarning: invalid value encountered in subtract\n",
      "  np.subtract(arr, avg, out=arr, casting='unsafe')\n"
     ]
    },
    {
     "data": {
      "image/png": "[encoded data removed]",
      "text/plain": [
       "<matplotlib.figure.Figure at 0x10d167610>"
      ]
     },
     "metadata": {},
     "output_type": "display_data"
    }
   ],
   "source": [
    "plt.figure(figsize=(8,3.6))\n",
    "\n",
    "def get_res(res):\n",
    "    filtered = np.array(res)\n",
    "    return np.nanmean(filtered, 0), np.nanstd(filtered, 0)\n",
    "\n",
    "tmp_m, tmp_s = get_res(dcsmc_results_Z) \n",
    "plt.errorbar(sizes, tmp_m, 2*tmp_s,marker='.', capsize=4, markeredgewidth=2, color=sns.color_palette()[1])\n",
    "\n",
    "tmp_m, tmp_s = get_res(nnis_results_Z)\n",
    "plt.errorbar(sizes, tmp_m, 2*tmp_s,marker='.', capsize=4, markeredgewidth=2, color=sns.color_palette()[2])\n",
    "\n",
    "tmp_m, tmp_s = get_res(lwis_results_Z) \n",
    "plt.errorbar(sizes, tmp_m, 2*tmp_s,marker='.', capsize=4, markeredgewidth=2, zorder=0,color=sns.color_palette()[5])\n",
    "\n",
    "\n",
    "plt.legend(['NN-SMC', 'NN-IS', 'IS (Prior)'], loc='lower right')\n",
    "\n",
    "\n",
    "plt.semilogx();\n",
    "\n",
    "plt.xlim(sizes[0]-1, sizes[-1])\n",
    "plt.ylim([-250, 0])\n",
    "\n",
    "plt.ylabel(\"$\\log \\hat Z$\")\n",
    "plt.xlabel(\"Number of samples\")\n",
    "plt.tight_layout()"
   ]
  },
  {
   "cell_type": "code",
   "execution_count": 23,
   "metadata": {
    "collapsed": false
   },
   "outputs": [
    {
     "data": {
      "image/png": "[encoded data removed]",
      "text/plain": [
       "<matplotlib.figure.Figure at 0x10f49b7d0>"
      ]
     },
     "metadata": {},
     "output_type": "display_data"
    }
   ],
   "source": [
    "plt.figure(figsize=(8,3.5))\n",
    "\n",
    "tmp_m, tmp_s = dcsmc_results_L2.mean(0), dcsmc_results_L2.std(0)\n",
    "plt.errorbar(sizes, tmp_m, 2*tmp_s,marker='.', capsize=4, markeredgewidth=2, color=sns.color_palette()[1])\n",
    "\n",
    "tmp_m, tmp_s = lwis_results_L2.mean(0), lwis_results_L2.std(0)\n",
    "plt.errorbar(sizes, tmp_m, 2*tmp_s,marker='.', capsize=4, markeredgewidth=2,color=sns.color_palette()[5])\n",
    "\n",
    "tmp_m, tmp_s = nnis_results_L2.mean(0), nnis_results_L2.std(0)\n",
    "plt.errorbar(sizes, tmp_m, 2*tmp_s,marker='.', capsize=4, markeredgewidth=2, color=sns.color_palette()[2])\n",
    "\n",
    "plt.legend(['D&C SMC', 'IS (Prior)', 'IS (NN)'], loc='upper right')\n",
    "plt.loglog();\n",
    "\n",
    "plt.xlim(sizes[0]-1, sizes[-1])\n",
    "\n",
    "plt.ylabel(\"L2 error in theta\")\n",
    "plt.xlabel(\"Number of samples\")\n",
    "plt.tight_layout();"
   ]
  },
  {
   "cell_type": "markdown",
   "metadata": {},
   "source": [
    "Note that the L2 error above is relative to the MCMC run, which is not authoratative."
   ]
  },
  {
   "cell_type": "code",
   "execution_count": null,
   "metadata": {
    "collapsed": true
   },
   "outputs": [],
   "source": []
  }
 ],
 "metadata": {
  "kernelspec": {
   "display_name": "Python 2",
   "language": "python",
   "name": "python2"
  },
  "language_info": {
   "codemirror_mode": {
    "name": "ipython",
    "version": 2
   },
   "file_extension": ".py",
   "mimetype": "text/x-python",
   "name": "python",
   "nbconvert_exporter": "python",
   "pygments_lexer": "ipython2",
   "version": "2.7.11"
  }
 },
 "nbformat": 4,
 "nbformat_minor": 0
}
